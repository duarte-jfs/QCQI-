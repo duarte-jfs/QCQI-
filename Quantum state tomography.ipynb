{
 "cells": [
  {
   "cell_type": "markdown",
   "metadata": {},
   "source": [
    "# Quantum State Tomography"
   ]
  },
  {
   "cell_type": "markdown",
   "metadata": {},
   "source": [
    "This notebook contains a first introduction to quantum state tomography. Before anything let's make sure we have the necessary tools to write some code:"
   ]
  },
  {
   "cell_type": "code",
   "execution_count": 1,
   "metadata": {},
   "outputs": [
    {
     "data": {
      "text/html": [
       "<h3>Version Information</h3><table><tr><th>Qiskit Software</th><th>Version</th></tr><tr><td>Qiskit</td><td>0.16.0</td></tr><tr><td>Terra</td><td>0.12.0</td></tr><tr><td>Aer</td><td>0.4.0</td></tr><tr><td>Ignis</td><td>0.2.0</td></tr><tr><td>Aqua</td><td>0.6.4</td></tr><tr><td>IBM Q Provider</td><td>0.5.0</td></tr><tr><th>System information</th></tr><tr><td>Python</td><td>3.7.6 (default, Jan  8 2020, 20:23:39) [MSC v.1916 64 bit (AMD64)]</td></tr><tr><td>OS</td><td>Windows</td></tr><tr><td>CPUs</td><td>2</td></tr><tr><td>Memory (Gb)</td><td>7.886066436767578</td></tr><tr><td colspan='2'>Thu Mar 19 19:09:07 2020 Hora padrão de GMT</td></tr></table>"
      ],
      "text/plain": [
       "<IPython.core.display.HTML object>"
      ]
     },
     "metadata": {},
     "output_type": "display_data"
    }
   ],
   "source": [
    "import numpy as np\n",
    "import random as rd\n",
    "from qiskit.visualization import *\n",
    "from qiskit import *\n",
    "import qiskit.tools.jupyter\n",
    "from jupyterthemes import jtplot\n",
    "from matplotlib import pyplot as plt\n",
    "\n",
    "jtplot.style(theme='onedork') \n",
    "\n",
    "\n",
    "%qiskit_version_table\n",
    "%matplotlib inline"
   ]
  },
  {
   "cell_type": "markdown",
   "metadata": {},
   "source": [
    "##  Definition\n",
    "\n",
    "References: \n",
    "\n",
    "- Nielsen & Chuang \"Quantum computation and Quantum information\"\n",
    "- [Quantum algorithm implementations for begginers](https://arxiv.org/abs/1804.03719)\n",
    "- [Wikipedia](https://en.wikipedia.org/wiki/Quantum_tomography)"
   ]
  },
  {
   "cell_type": "markdown",
   "metadata": {},
   "source": [
    "The goal of tomography is simply to indirectly measure something, trying to put something together by measuring/observing slices of it, and this technique is used in a variety of disciplines besides quantum information such as radiology, archaeology, biology, atmospheric science, geophysics, oceanography, plasma physics, materials science, astrophysics, etc. But in quantum information things get a bit trickier (Who would have guessed?). Our goal is to find the quantum state of a certain system of qubits by performing measurements of several independent observables. When we say independent observables we mean that the operators form an orthonormal set of matrices with respect to the Hilbert–\n",
    "Schmidt inner product. As the goal of this notebook is a mere proof of concept let's remain ourselves to the case of a simple qubit.\n",
    "\n",
    "We start by noticing that the density matrix for a qubit can be written with respect to its Bloch vector:\n",
    "\n",
    "$$\n",
    "\\hat{\\rho}=\\frac{1}{2}\\bigg(\\hat{\\mathbb{1}}+\\vec{\\sigma}\\cdot\\vec{B}\\bigg) \\tag{1}\n",
    "$$\n",
    "\n",
    "where $\\vec{B}$ denotes the bloch vector, and let's assume that $\\vec{B}=(B_1,B_2,B_3)$ so that we can expand (1) as:\n",
    "\n",
    "$$\n",
    "\\hat{\\rho}=\\frac{1}{2}\\bigg(\\hat{\\mathbb{1}}+\\hat{X}B_1+\\hat{Y}B_2+\\hat{Z}B_3+\\bigg) \\tag{2}\n",
    "$$\n",
    "\n",
    "Now we notice that:\n",
    "\n",
    "$$\n",
    "\\begin{align}\n",
    "{tr(\\hat{X}\\hat{\\rho})} &= \\frac{1}{2}\\bigg(tr(\\hat{X}\\hat{\\mathbb{1}})+tr(\\hat{X}^2B_1)+tr(\\hat{X}\\hat{Y}B_2)+tr(\\hat{X}\\hat{Z}B_3)+\\bigg)\\\\\n",
    "                        &= \\frac{1}{2}\\bigg(tr(\\hat{X})+tr(\\mathbb{1}B_1)+tr(i\\hat{Z}B_2)+tr(-i\\hat{Y}B_3)+\\bigg)\\\\\n",
    "                        &= B_1\n",
    "\\end{align}$$\n",
    "\n",
    "Likewise we could conclude that $tr(\\hat{Y}\\hat{\\rho})=B_2$ and $tr(\\hat{Z}\\hat{\\rho})=B_3$. Also, for some observable $\\hat{O}$ it's average value for some some quantm system characterized by $\\hat{\\rho}$ is given by $\\langle \\hat{O} \\rangle=tr(\\hat{O}\\hat{\\rho})$, so we can write:\n",
    "\n",
    "$$\n",
    "\\begin{align}\n",
    "{\\hat{\\rho}} &= \\frac{1}{2}\\bigg(\\hat{\\mathbb{1}}+tr(\\hat{X}\\hat{\\rho})\\hat{X}+tr(\\hat{Y}\\hat{\\rho})\\hat{Y}+tr(\\hat{Z}\\hat{\\rho})\\hat{Z}+\\bigg) \\\\ \n",
    "             &= \\frac{1}{2}\\bigg(\\hat{\\mathbb{1}}+\\langle \\hat{X} \\rangle \\hat{X}+\\langle \\hat{Y} \\rangle \\hat{Y}+\\langle \\hat{Z} \\rangle \\hat{Z}+\\bigg) \\tag{3}            \n",
    "\\end{align}$$\n",
    "\n"
   ]
  },
  {
   "cell_type": "markdown",
   "metadata": {},
   "source": [
    "Here we have chosen the standard 4 pauli matrices, but that doesn't stop you from using any set of 4 orthonormal matrices to characterize the state, because for any operator acting on a single qubit state space we can write:\n",
    "\n",
    "$$\\begin{align}\n",
    "{\\hat{\\sigma_n}} &=\\vec{n}\\cdot \\vec{B} \\\\\n",
    "{tr(\\hat{\\sigma_n})} &=\\vec{n} \\cdot \\vec{B}\n",
    "\\end{align}$$\n",
    "\n",
    "where $\\vec{n}$ is some vector in a unit sphere. We have then a method to figure out the state of some initial single qubit state. But as a measurement destroys the previous state of a qubit the best result we ever have is a confirmation that the machine we are using to create our ensemble of similarly prepared qubits is working properly since we have to perform inumerous measurements."
   ]
  },
  {
   "cell_type": "markdown",
   "metadata": {},
   "source": [
    "## Hands-on"
   ]
  },
  {
   "cell_type": "markdown",
   "metadata": {},
   "source": [
    "Since Qiskit only works with pure states we don't have to worry for the cases of mixed states since those are treated after purification is made and obtained by tracing out the purification qubits. Also, since every qubit in a quantum register is prepared in the same way we can perform the same measurements in every single one of them."
   ]
  },
  {
   "cell_type": "code",
   "execution_count": 7,
   "metadata": {},
   "outputs": [
    {
     "data": {
      "text/html": [
       "<pre style=\"word-wrap: normal;white-space: pre;background: #fff0;line-height: 1.1;font-family: &quot;Courier New&quot;,Courier,monospace\">         ┌─────────────────────────────┐ ┌───┐      ┌─┐   \n",
       "q1_0: |0>┤ Initialize(0.93843,0.34547) ├─┤ H ├──────┤M├───\n",
       "         ├─────────────────────────────┤┌┴───┴┐┌───┐└╥┘┌─┐\n",
       "q1_1: |0>┤ Initialize(0.93843,0.34547) ├┤ Sdg ├┤ H ├─╫─┤M├\n",
       "         ├─────────────────────────────┤└─┬─┬─┘└───┘ ║ └╥┘\n",
       "q1_2: |0>┤ Initialize(0.93843,0.34547) ├──┤M├────────╫──╫─\n",
       "         └─────────────────────────────┘  └╥┘        ║  ║ \n",
       " c1_0: 0 ══════════════════════════════════╬═════════╩══╬═\n",
       "                                           ║            ║ \n",
       " c1_1: 0 ══════════════════════════════════╬════════════╩═\n",
       "                                           ║              \n",
       " c1_2: 0 ══════════════════════════════════╩══════════════\n",
       "                                                          </pre>"
      ],
      "text/plain": [
       "         ┌─────────────────────────────┐ ┌───┐      ┌─┐   \n",
       "q1_0: |0>┤ Initialize(0.93843,0.34547) ├─┤ H ├──────┤M├───\n",
       "         ├─────────────────────────────┤┌┴───┴┐┌───┐└╥┘┌─┐\n",
       "q1_1: |0>┤ Initialize(0.93843,0.34547) ├┤ Sdg ├┤ H ├─╫─┤M├\n",
       "         ├─────────────────────────────┤└─┬─┬─┘└───┘ ║ └╥┘\n",
       "q1_2: |0>┤ Initialize(0.93843,0.34547) ├──┤M├────────╫──╫─\n",
       "         └─────────────────────────────┘  └╥┘        ║  ║ \n",
       " c1_0: 0 ══════════════════════════════════╬═════════╩══╬═\n",
       "                                           ║            ║ \n",
       " c1_1: 0 ══════════════════════════════════╬════════════╩═\n",
       "                                           ║              \n",
       " c1_2: 0 ══════════════════════════════════╩══════════════\n",
       "                                                          "
      ]
     },
     "execution_count": 7,
     "metadata": {},
     "output_type": "execute_result"
    }
   ],
   "source": [
    "n1=rd.random()\n",
    "n2=1-n1\n",
    "init_vector=[np.sqrt(n1), np.sqrt(n2)]\n",
    "\n",
    "q=QuantumRegister(3)\n",
    "c=ClassicalRegister(3)\n",
    "\n",
    "circ=QuantumCircuit(q,c)\n",
    "\n",
    "for i in range(len(q)):\n",
    "    circ.initialize(init_vector,q[i])\n",
    "\n",
    "#Now we simply do the measurements in each basis\n",
    "circ.h(0)#to measure in the pauli-x basis\n",
    "circ.sdg(1)\n",
    "circ.h(1)#to measure in the pauli-y basis\n",
    "\n",
    "circ.measure(0,0)\n",
    "circ.measure(1,1)\n",
    "circ.measure(2,2)\n",
    "\n",
    "circ.draw()"
   ]
  },
  {
   "cell_type": "code",
   "execution_count": 8,
   "metadata": {},
   "outputs": [
    {
     "name": "stdout",
     "output_type": "stream",
     "text": [
      "{'101': 13, '000': 350, '001': 76, '111': 5, '010': 391, '011': 85, '110': 54, '100': 50}\n"
     ]
    },
    {
     "data": {
      "image/png": "[encoded data removed]",
      "text/plain": [
       "<Figure size 504x360 with 1 Axes>"
      ]
     },
     "execution_count": 8,
     "metadata": {},
     "output_type": "execute_result"
    }
   ],
   "source": [
    "qasm_sim = qiskit.Aer.get_backend(\"qasm_simulator\")\n",
    "N=1024\n",
    "results = execute(circ, backend=qasm_sim, shots=N).result()\n",
    "counts=results.get_counts()\n",
    "print(counts)\n",
    "plot_histogram(counts)"
   ]
  },
  {
   "cell_type": "code",
   "execution_count": 49,
   "metadata": {},
   "outputs": [
    {
     "data": {
      "image/png": "[encoded data removed]",
      "text/plain": [
       "<Figure size 576x360 with 2 Axes>"
      ]
     },
     "execution_count": 49,
     "metadata": {},
     "output_type": "execute_result"
    }
   ],
   "source": [
    "# now we have to make sense of the results:\n",
    "# counts on the eigenvalues of X operator\n",
    "x_plus = 0\n",
    "x_minus = 0\n",
    "# counts on the eigenvalues of Y operator\n",
    "y_plus = 0\n",
    "y_minus = 0\n",
    "# counts on the eigenvalues of Y operator\n",
    "z_plus = 0\n",
    "z_minus = 0\n",
    "\n",
    "for i in counts:\n",
    "    if i[-1] == \"0\":\n",
    "        x_plus += counts[i]\n",
    "    elif i[-1] == \"1\":\n",
    "        x_minus += counts[i]\n",
    "\n",
    "    if i[-2] == \"0\":\n",
    "        y_plus += counts[i]\n",
    "    elif i[-2] == \"1\":\n",
    "        y_minus += counts[i]\n",
    "\n",
    "    if i[-3] == \"0\":\n",
    "        z_plus += counts[i]\n",
    "    elif i[-3] == \"1\":\n",
    "        z_minus += counts[i]\n",
    "\n",
    "avgx = (x_plus-x_minus)/N\n",
    "avgy = (y_plus-y_minus)/N\n",
    "avgz = (z_plus-z_minus)/N\n",
    "\n",
    "pauli_x = np.array([[0, 1],\n",
    "                    [1, 0]], dtype=complex)\n",
    "pauli_y = np.array([[0, -1j],\n",
    "                    [1j, 0]], dtype=complex)\n",
    "pauli_z = np.array([[1, 0],\n",
    "                    [0, -1]], dtype=complex)\n",
    "identity = np.array([[1, 0],\n",
    "                     [0, 1]], dtype=complex)\n",
    "\n",
    "density = 1/2*(identity+avgx*pauli_x+avgy*pauli_y+avgz*pauli_z)\n",
    "\n",
    "plot_state_hinton(init_vector)"
   ]
  },
  {
   "cell_type": "code",
   "execution_count": 50,
   "metadata": {},
   "outputs": [
    {
     "data": {
      "image/png": "[encoded data removed]",
      "text/plain": [
       "<Figure size 576x360 with 2 Axes>"
      ]
     },
     "execution_count": 50,
     "metadata": {},
     "output_type": "execute_result"
    }
   ],
   "source": [
    "plot_state_hinton(density)"
   ]
  },
  {
   "cell_type": "markdown",
   "metadata": {
    "cell_style": "center"
   },
   "source": [
    "And there you have it. We started from some random initial state vector and were able to approximate it using some measurements. This approximation is as good as the central limit theorem allows it to be, that is, the greater the number of measurements, the better our estimate is. But let's think for a moment: Whenever we build a circuit we know already what our final state is going to be, we know exactly how our gates operate, so how on earth is this useful? In a perfect world, it's not. But we don't live in a perfect world, and our quantum gates will generate errors, and even though our final states can be approximatelly equal to our predictions, there will always be some imperfections. And to make it worse, what if they are sistematic? That is, no matter how many trials of our circuit we do, we still get some unexpected results? By identifing these terms we are able to study the operation of our circuit in a bit more detail. This is of extreme importance for quantum error correction (for \"debugging\" if you will), and quantum state tomography is a powerful tool for quantum *process* tomography, which is evaluating your circuit as a whole from the input and output. taking this into account, physicists have come up with a measure called \"Fidelity\" that measures how similar two quantum states are. You can promptly see how useful this can be for evaluating how \"Ideal\" your circuit is if you compute the fidelity of your predicted state and experimental state."
   ]
  },
  {
   "cell_type": "markdown",
   "metadata": {
    "cell_style": "center"
   },
   "source": [
    "## Closing remarks\n"
   ]
  },
  {
   "cell_type": "markdown",
   "metadata": {},
   "source": [
    "Here we have explored the simplest of all possible cases, the single qubit, but this will never be what we'll be working with, there will generally be dozens of qubits and (who knows?) maybe hundreds of qubits, and from that things get quite complicated, that is why we need very talented people working on this subject. Fortunately there already are and qiskit gives us the module *Ignis* that has some circuits for quantum state and process tomography. I encourage you to explore it a bit.\n",
    "\n",
    "It's also worth noting that we have made use of te simplest of tomographies on what quantum information is concerned. There are other more efficient techniques that are worth noting:\n",
    "\n",
    "- Linear Inversion (What we used);\n",
    "- Linear Regression;\n",
    "- Maximum likelihood;\n",
    "- Bayesian methods.\n",
    "\n",
    "Again, take a look on these methods.\n",
    "\n"
   ]
  },
  {
   "cell_type": "code",
   "execution_count": null,
   "metadata": {},
   "outputs": [],
   "source": []
  },
  {
   "cell_type": "code",
   "execution_count": null,
   "metadata": {},
   "outputs": [],
   "source": []
  }
 ],
 "metadata": {
  "kernelspec": {
   "display_name": "Python 3",
   "language": "python",
   "name": "python3"
  },
  "language_info": {
   "codemirror_mode": {
    "name": "ipython",
    "version": 3
   },
   "file_extension": ".py",
   "mimetype": "text/x-python",
   "name": "python",
   "nbconvert_exporter": "python",
   "pygments_lexer": "ipython3",
   "version": "3.7.6"
  },
  "toc": {
   "base_numbering": 1,
   "nav_menu": {},
   "number_sections": true,
   "sideBar": true,
   "skip_h1_title": false,
   "title_cell": "Table of Contents",
   "title_sidebar": "Contents",
   "toc_cell": false,
   "toc_position": {},
   "toc_section_display": true,
   "toc_window_display": true
  }
 },
 "nbformat": 4,
 "nbformat_minor": 4
}
